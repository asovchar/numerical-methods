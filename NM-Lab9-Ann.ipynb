{
 "cells": [
  {
   "cell_type": "markdown",
   "metadata": {},
   "source": [
    "### Виконала: Хома Анна, КА-63\n",
    "# Лабораторна робота №9\n",
    "## Диференційні рівняння у частинних похідних\n",
    "#### 1. Умова:\n",
    "Розв'язати рівняння гіперболічного типу\n",
    "\n",
    "$u_{tt}=u_{xx}+F(t,x),\\quad 0<x<L=1$\n",
    "\n",
    "для функції $u(t,x)$ з початковими умовами $u(0,x) = u_0(x), u_t(0,x)=0$\n",
    "\n",
    "та крайовими $u(t,0) = u_1(t), u(t,L) = u_2(t)$\n",
    "\n",
    "**Точним розв'язком** вважати функцію $u(t,x)=u_0(x)cos(pt)$,\n",
    "\n",
    "де $u_0(x) = (x+0.4)sin(px)$\n",
    "\n",
    "#### 2. Чисельний розв'язок"
   ]
  },
  {
   "cell_type": "code",
   "execution_count": 2,
   "metadata": {},
   "outputs": [],
   "source": [
    "import numpy as np\n",
    "import pandas as pd\n",
    "import matplotlib.pyplot as plt\n",
    "from IPython.display import display, HTML\n",
    "%matplotlib inline\n",
    "plt.rcParams['figure.figsize'] = (15.0, 7.5) # set default size of plots"
   ]
  },
  {
   "cell_type": "markdown",
   "metadata": {},
   "source": [
    "##### Умова"
   ]
  },
  {
   "cell_type": "code",
   "execution_count": 6,
   "metadata": {},
   "outputs": [],
   "source": [
    "L = 1\n",
    "N = 100"
   ]
  },
  {
   "cell_type": "code",
   "execution_count": 5,
   "metadata": {},
   "outputs": [],
   "source": [
    "def u0(x, p=1):\n",
    "    z = (x+0.4) * np.sin(p*x)"
   ]
  },
  {
   "cell_type": "code",
   "execution_count": null,
   "metadata": {},
   "outputs": [],
   "source": []
  }
 ],
 "metadata": {
  "kernelspec": {
   "display_name": "Python 3",
   "language": "python",
   "name": "python3"
  },
  "language_info": {
   "codemirror_mode": {
    "name": "ipython",
    "version": 3
   },
   "file_extension": ".py",
   "mimetype": "text/x-python",
   "name": "python",
   "nbconvert_exporter": "python",
   "pygments_lexer": "ipython3",
   "version": "3.7.0"
  }
 },
 "nbformat": 4,
 "nbformat_minor": 2
}
